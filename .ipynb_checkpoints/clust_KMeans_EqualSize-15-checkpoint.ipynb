{
 "cells": [
  {
   "cell_type": "code",
   "execution_count": 7,
   "metadata": {},
   "outputs": [
    {
     "name": "stdout",
     "output_type": "stream",
     "text": [
      "Clustering started\n"
     ]
    },
    {
     "name": "stderr",
     "output_type": "stream",
     "text": [
      "C:\\Users\\marco\\Documents\\A2A\\submission\\a2a_kmeans_equalsize.py:492: RuntimeWarning: invalid value encountered in true_divide\n",
      "  centers = _k_means._centers_dense(X, sample_weight, labels, n_clusters, distances)\n",
      "C:\\Users\\marco\\Documents\\A2A\\submission\\a2a_kmeans_equalsize.py:492: RuntimeWarning: invalid value encountered in true_divide\n",
      "  centers = _k_means._centers_dense(X, sample_weight, labels, n_clusters, distances)\n",
      "C:\\Users\\marco\\Documents\\A2A\\submission\\a2a_kmeans_equalsize.py:492: RuntimeWarning: invalid value encountered in true_divide\n",
      "  centers = _k_means._centers_dense(X, sample_weight, labels, n_clusters, distances)\n",
      "C:\\Users\\marco\\Documents\\A2A\\submission\\a2a_kmeans_equalsize.py:492: RuntimeWarning: invalid value encountered in true_divide\n",
      "  centers = _k_means._centers_dense(X, sample_weight, labels, n_clusters, distances)\n",
      "C:\\Users\\marco\\Documents\\A2A\\submission\\a2a_kmeans_equalsize.py:492: RuntimeWarning: invalid value encountered in true_divide\n",
      "  centers = _k_means._centers_dense(X, sample_weight, labels, n_clusters, distances)\n",
      "C:\\Users\\marco\\Documents\\A2A\\submission\\a2a_kmeans_equalsize.py:492: RuntimeWarning: invalid value encountered in true_divide\n",
      "  centers = _k_means._centers_dense(X, sample_weight, labels, n_clusters, distances)\n",
      "C:\\Users\\marco\\Documents\\A2A\\submission\\a2a_kmeans_equalsize.py:492: RuntimeWarning: invalid value encountered in true_divide\n",
      "  centers = _k_means._centers_dense(X, sample_weight, labels, n_clusters, distances)\n",
      "C:\\Users\\marco\\Documents\\A2A\\submission\\a2a_kmeans_equalsize.py:492: RuntimeWarning: invalid value encountered in true_divide\n",
      "  centers = _k_means._centers_dense(X, sample_weight, labels, n_clusters, distances)\n",
      "C:\\Users\\marco\\Documents\\A2A\\submission\\a2a_kmeans_equalsize.py:492: RuntimeWarning: invalid value encountered in true_divide\n",
      "  centers = _k_means._centers_dense(X, sample_weight, labels, n_clusters, distances)\n",
      "C:\\Users\\marco\\Documents\\A2A\\submission\\a2a_kmeans_equalsize.py:492: RuntimeWarning: invalid value encountered in true_divide\n",
      "  centers = _k_means._centers_dense(X, sample_weight, labels, n_clusters, distances)\n",
      "C:\\Users\\marco\\Documents\\A2A\\submission\\a2a_kmeans_equalsize.py:492: RuntimeWarning: invalid value encountered in true_divide\n",
      "  centers = _k_means._centers_dense(X, sample_weight, labels, n_clusters, distances)\n"
     ]
    },
    {
     "ename": "KeyboardInterrupt",
     "evalue": "",
     "output_type": "error",
     "traceback": [
      "\u001b[1;31m---------------------------------------------------------------------------\u001b[0m",
      "\u001b[1;31mKeyboardInterrupt\u001b[0m                         Traceback (most recent call last)",
      "\u001b[1;32m<ipython-input-7-fdd38b690648>\u001b[0m in \u001b[0;36m<module>\u001b[1;34m\u001b[0m\n\u001b[0;32m     30\u001b[0m \u001b[1;33m\u001b[0m\u001b[0m\n\u001b[0;32m     31\u001b[0m \u001b[0mprint\u001b[0m\u001b[1;33m(\u001b[0m\u001b[1;34m\"Clustering started\"\u001b[0m\u001b[1;33m)\u001b[0m\u001b[1;33m\u001b[0m\u001b[1;33m\u001b[0m\u001b[0m\n\u001b[1;32m---> 32\u001b[1;33m \u001b[0mclusterer\u001b[0m \u001b[1;33m=\u001b[0m \u001b[0ma2a_kmeans_equalsize\u001b[0m\u001b[1;33m.\u001b[0m\u001b[0mEqualGroupsKMeans\u001b[0m\u001b[1;33m(\u001b[0m\u001b[0mn_clusters\u001b[0m\u001b[1;33m=\u001b[0m\u001b[0mn_clusters\u001b[0m\u001b[1;33m)\u001b[0m\u001b[1;33m.\u001b[0m\u001b[0mfit\u001b[0m\u001b[1;33m(\u001b[0m\u001b[0mX\u001b[0m\u001b[1;33m)\u001b[0m\u001b[1;33m\u001b[0m\u001b[1;33m\u001b[0m\u001b[0m\n\u001b[0m\u001b[0;32m     33\u001b[0m \u001b[1;33m\u001b[0m\u001b[0m\n\u001b[0;32m     34\u001b[0m df = df.assign(**{\n",
      "\u001b[1;32m~\\Documents\\A2A\\submission\\a2a_kmeans_equalsize.py\u001b[0m in \u001b[0;36mfit\u001b[1;34m(self, X, y)\u001b[0m\n\u001b[0;32m    157\u001b[0m                 \u001b[0mprecompute_distances\u001b[0m\u001b[1;33m=\u001b[0m\u001b[0mself\u001b[0m\u001b[1;33m.\u001b[0m\u001b[0mprecompute_distances\u001b[0m\u001b[1;33m,\u001b[0m\u001b[1;33m\u001b[0m\u001b[1;33m\u001b[0m\u001b[0m\n\u001b[0;32m    158\u001b[0m                 \u001b[0mtol\u001b[0m\u001b[1;33m=\u001b[0m\u001b[0mself\u001b[0m\u001b[1;33m.\u001b[0m\u001b[0mtol\u001b[0m\u001b[1;33m,\u001b[0m \u001b[0mrandom_state\u001b[0m\u001b[1;33m=\u001b[0m\u001b[0mrandom_state\u001b[0m\u001b[1;33m,\u001b[0m \u001b[0mcopy_x\u001b[0m\u001b[1;33m=\u001b[0m\u001b[0mself\u001b[0m\u001b[1;33m.\u001b[0m\u001b[0mcopy_x\u001b[0m\u001b[1;33m,\u001b[0m\u001b[1;33m\u001b[0m\u001b[1;33m\u001b[0m\u001b[0m\n\u001b[1;32m--> 159\u001b[1;33m                 n_jobs=self.n_jobs)\n\u001b[0m\u001b[0;32m    160\u001b[0m         \u001b[1;32mreturn\u001b[0m \u001b[0mself\u001b[0m\u001b[1;33m\u001b[0m\u001b[1;33m\u001b[0m\u001b[0m\n\u001b[0;32m    161\u001b[0m \u001b[1;33m\u001b[0m\u001b[0m\n",
      "\u001b[1;32m~\\Documents\\A2A\\submission\\a2a_kmeans_equalsize.py\u001b[0m in \u001b[0;36mk_means\u001b[1;34m(X, n_clusters, init, precompute_distances, n_init, max_iter, verbose, tol, random_state, copy_x, n_jobs, return_n_iter, sample_weight)\u001b[0m\n\u001b[0;32m    372\u001b[0m                 \u001b[0mX\u001b[0m\u001b[1;33m,\u001b[0m \u001b[0mn_clusters\u001b[0m\u001b[1;33m,\u001b[0m \u001b[0mmax_iter\u001b[0m\u001b[1;33m=\u001b[0m\u001b[0mmax_iter\u001b[0m\u001b[1;33m,\u001b[0m \u001b[0minit\u001b[0m\u001b[1;33m=\u001b[0m\u001b[0minit\u001b[0m\u001b[1;33m,\u001b[0m \u001b[0mverbose\u001b[0m\u001b[1;33m=\u001b[0m\u001b[0mverbose\u001b[0m\u001b[1;33m,\u001b[0m\u001b[1;33m\u001b[0m\u001b[1;33m\u001b[0m\u001b[0m\n\u001b[0;32m    373\u001b[0m                 \u001b[0mprecompute_distances\u001b[0m\u001b[1;33m=\u001b[0m\u001b[0mprecompute_distances\u001b[0m\u001b[1;33m,\u001b[0m \u001b[0mtol\u001b[0m\u001b[1;33m=\u001b[0m\u001b[0mtol\u001b[0m\u001b[1;33m,\u001b[0m\u001b[1;33m\u001b[0m\u001b[1;33m\u001b[0m\u001b[0m\n\u001b[1;32m--> 374\u001b[1;33m                 x_squared_norms=x_squared_norms, random_state=random_state, sample_weight=sample_weight)\n\u001b[0m\u001b[0;32m    375\u001b[0m             \u001b[1;31m# determine if these results are the best so far\u001b[0m\u001b[1;33m\u001b[0m\u001b[1;33m\u001b[0m\u001b[1;33m\u001b[0m\u001b[0m\n\u001b[0;32m    376\u001b[0m             \u001b[1;32mif\u001b[0m \u001b[0mbest_inertia\u001b[0m \u001b[1;32mis\u001b[0m \u001b[1;32mNone\u001b[0m \u001b[1;32mor\u001b[0m \u001b[0minertia\u001b[0m \u001b[1;33m<\u001b[0m \u001b[0mbest_inertia\u001b[0m\u001b[1;33m:\u001b[0m\u001b[1;33m\u001b[0m\u001b[1;33m\u001b[0m\u001b[0m\n",
      "\u001b[1;32m~\\Documents\\A2A\\submission\\a2a_kmeans_equalsize.py\u001b[0m in \u001b[0;36m_kmeans_single\u001b[1;34m(X, n_clusters, x_squared_norms, max_iter, init, verbose, random_state, tol, precompute_distances, sample_weight)\u001b[0m\n\u001b[0;32m    482\u001b[0m             _labels_inertia(X, x_squared_norms, centers,\n\u001b[0;32m    483\u001b[0m                             \u001b[0mprecompute_distances\u001b[0m\u001b[1;33m=\u001b[0m\u001b[0mprecompute_distances\u001b[0m\u001b[1;33m,\u001b[0m\u001b[1;33m\u001b[0m\u001b[1;33m\u001b[0m\u001b[0m\n\u001b[1;32m--> 484\u001b[1;33m                             distances=distances)\n\u001b[0m\u001b[0;32m    485\u001b[0m \u001b[1;33m\u001b[0m\u001b[0m\n\u001b[0;32m    486\u001b[0m         \u001b[0msample_weight\u001b[0m \u001b[1;33m=\u001b[0m \u001b[1;33m[\u001b[0m\u001b[1;36m1.0\u001b[0m\u001b[1;33m]\u001b[0m \u001b[1;33m*\u001b[0m \u001b[0mnp\u001b[0m\u001b[1;33m.\u001b[0m\u001b[0masarray\u001b[0m\u001b[1;33m(\u001b[0m\u001b[0mlen\u001b[0m\u001b[1;33m(\u001b[0m\u001b[0mlabels\u001b[0m\u001b[1;33m)\u001b[0m\u001b[1;33m)\u001b[0m\u001b[1;33m\u001b[0m\u001b[1;33m\u001b[0m\u001b[0m\n",
      "\u001b[1;32m~\\Documents\\A2A\\submission\\a2a_kmeans_equalsize.py\u001b[0m in \u001b[0;36m_labels_inertia\u001b[1;34m(X, x_squared_norms, centers, precompute_distances, distances)\u001b[0m\n\u001b[0;32m    579\u001b[0m         \u001b[1;32mif\u001b[0m \u001b[0mprecompute_distances\u001b[0m\u001b[1;33m:\u001b[0m\u001b[1;33m\u001b[0m\u001b[1;33m\u001b[0m\u001b[0m\n\u001b[0;32m    580\u001b[0m             return _labels_inertia_precompute_dense(X, x_squared_norms,\n\u001b[1;32m--> 581\u001b[1;33m                                                     centers, distances)\n\u001b[0m\u001b[0;32m    582\u001b[0m         inertia = k_means_._k_means._assign_labels_array(\n\u001b[0;32m    583\u001b[0m             X, x_squared_norms, centers, labels, distances=distances)\n",
      "\u001b[1;32m~\\Documents\\A2A\\submission\\a2a_kmeans_equalsize.py\u001b[0m in \u001b[0;36m_labels_inertia_precompute_dense\u001b[1;34m(X, x_squared_norms, centers, distances)\u001b[0m\n\u001b[0;32m    670\u001b[0m                     \u001b[0mmindist\u001b[0m\u001b[1;33m[\u001b[0m\u001b[0mswap_candidate\u001b[0m\u001b[1;33m]\u001b[0m \u001b[1;33m=\u001b[0m \u001b[0mall_distances\u001b[0m\u001b[1;33m[\u001b[0m\u001b[0mpoint_cluster\u001b[0m\u001b[1;33m,\u001b[0m \u001b[0mswap_candidate\u001b[0m\u001b[1;33m]\u001b[0m\u001b[1;33m\u001b[0m\u001b[1;33m\u001b[0m\u001b[0m\n\u001b[0;32m    671\u001b[0m \u001b[1;33m\u001b[0m\u001b[0m\n\u001b[1;32m--> 672\u001b[1;33m                     \u001b[1;32mif\u001b[0m \u001b[0mnp\u001b[0m\u001b[1;33m.\u001b[0m\u001b[0mabsolute\u001b[0m\u001b[1;33m(\u001b[0m\u001b[0mmindist\u001b[0m\u001b[1;33m)\u001b[0m\u001b[1;33m.\u001b[0m\u001b[0msum\u001b[0m\u001b[1;33m(\u001b[0m\u001b[1;33m)\u001b[0m \u001b[1;33m<\u001b[0m  \u001b[0mnp\u001b[0m\u001b[1;33m.\u001b[0m\u001b[0mabsolute\u001b[0m\u001b[1;33m(\u001b[0m\u001b[0mbest_mindist\u001b[0m\u001b[1;33m)\u001b[0m\u001b[1;33m.\u001b[0m\u001b[0msum\u001b[0m\u001b[1;33m(\u001b[0m\u001b[1;33m)\u001b[0m\u001b[1;33m:\u001b[0m\u001b[1;33m\u001b[0m\u001b[1;33m\u001b[0m\u001b[0m\n\u001b[0m\u001b[0;32m    673\u001b[0m                         \u001b[1;31m# update the labels since the transfer was a success\u001b[0m\u001b[1;33m\u001b[0m\u001b[1;33m\u001b[0m\u001b[1;33m\u001b[0m\u001b[0m\n\u001b[0;32m    674\u001b[0m                         \u001b[0mbest_labels\u001b[0m \u001b[1;33m=\u001b[0m \u001b[0mlabels\u001b[0m\u001b[1;33m.\u001b[0m\u001b[0mcopy\u001b[0m\u001b[1;33m(\u001b[0m\u001b[1;33m)\u001b[0m\u001b[1;33m\u001b[0m\u001b[1;33m\u001b[0m\u001b[0m\n",
      "\u001b[1;32m~\\Anaconda3\\lib\\site-packages\\numpy\\core\\_methods.py\u001b[0m in \u001b[0;36m_sum\u001b[1;34m(a, axis, dtype, out, keepdims, initial)\u001b[0m\n\u001b[0;32m     34\u001b[0m def _sum(a, axis=None, dtype=None, out=None, keepdims=False,\n\u001b[0;32m     35\u001b[0m          initial=_NoValue):\n\u001b[1;32m---> 36\u001b[1;33m     \u001b[1;32mreturn\u001b[0m \u001b[0mumr_sum\u001b[0m\u001b[1;33m(\u001b[0m\u001b[0ma\u001b[0m\u001b[1;33m,\u001b[0m \u001b[0maxis\u001b[0m\u001b[1;33m,\u001b[0m \u001b[0mdtype\u001b[0m\u001b[1;33m,\u001b[0m \u001b[0mout\u001b[0m\u001b[1;33m,\u001b[0m \u001b[0mkeepdims\u001b[0m\u001b[1;33m,\u001b[0m \u001b[0minitial\u001b[0m\u001b[1;33m)\u001b[0m\u001b[1;33m\u001b[0m\u001b[1;33m\u001b[0m\u001b[0m\n\u001b[0m\u001b[0;32m     37\u001b[0m \u001b[1;33m\u001b[0m\u001b[0m\n\u001b[0;32m     38\u001b[0m def _prod(a, axis=None, dtype=None, out=None, keepdims=False,\n",
      "\u001b[1;31mKeyboardInterrupt\u001b[0m: "
     ]
    }
   ],
   "source": [
    "import numpy as np\n",
    "import pandas as pd\n",
    "from sklearn.metrics import silhouette_samples, silhouette_score\n",
    "import matplotlib.cm as cm\n",
    "import matplotlib.pyplot as plt\n",
    "import datetime\n",
    "from importlib import reload\n",
    "\n",
    "import a2a_clustering\n",
    "import a2a_validation\n",
    "import a2a_travellingsalesman\n",
    "import a2a_kmeans_equalsize\n",
    "\n",
    "a2a_clustering = reload(a2a_clustering)\n",
    "a2a_validation = reload(a2a_validation)\n",
    "a2a_kmeans_equalsize = reload(a2a_kmeans_equalsize)\n",
    "a2a_travellingsalesman = reload(a2a_travellingsalesman)\n",
    "\n",
    "n_clusters = 15\n",
    "RANDOM_SEED = 0\n",
    "\n",
    "start = datetime.datetime.now()\n",
    "PATH = 'output/clustering/'\n",
    "FILE_PREFIX = PATH + 'kmeans_equal_size_' + str(n_clusters) + '_'\n",
    "\n",
    "df = pd.read_csv(\"output/data_preparation/first_visit.20190903.csv\",\n",
    "    parse_dates=['created_at'], date_parser=lambda x: pd.datetime.strptime(x, '%Y-%m-%d %H:%M:%S'))\n",
    "\n",
    "X = a2a_clustering.transform(df)\n",
    "\n",
    "print(\"Clustering started\")\n",
    "clusterer = a2a_kmeans_equalsize.EqualGroupsKMeans(n_clusters=n_clusters).fit(X)\n",
    "\n",
    "df = df.assign(**{\n",
    "    'Cluster_labels': clusterer.labels_\n",
    "})\n",
    "\n",
    "seconds = (datetime.datetime.now() - start).seconds\n",
    "print(\"Elapsed time for clustering: \" + str(seconds) + \" seconds\")\n",
    "\n",
    "centroid_csv = np.asarray(clusterer.cluster_centers_)\n",
    "np.savetxt(FILE_PREFIX + \"centroids.csv\", \n",
    "    centroid_csv, \n",
    "    header=\"lat,lng\", \n",
    "    delimiter=\",\", \n",
    "    comments='')\n",
    "\n",
    "###################\n",
    "# VALIDATION STEP #\n",
    "###################\n",
    "\n",
    "df = a2a_validation.silhouette(df, clusterer.cluster_centers_, FILE_PREFIX, \"KMeans\")\n",
    "df.to_csv(FILE_PREFIX + \"clusterized_dataset.csv\")\n",
    "\n",
    "###################\n",
    "# TSP        STEP #\n",
    "###################\n",
    "\n",
    "tsp_solved = a2a_travellingsalesman.tsp(df, FILE_PREFIX)\n",
    "tsp_solved.to_csv(FILE_PREFIX + 'tsp.csv')"
   ]
  },
  {
   "cell_type": "code",
   "execution_count": null,
   "metadata": {},
   "outputs": [],
   "source": [
    "tsp_solved"
   ]
  },
  {
   "cell_type": "code",
   "execution_count": null,
   "metadata": {},
   "outputs": [],
   "source": []
  }
 ],
 "metadata": {
  "kernelspec": {
   "display_name": "Python 3",
   "language": "python",
   "name": "python3"
  },
  "language_info": {
   "codemirror_mode": {
    "name": "ipython",
    "version": 3
   },
   "file_extension": ".py",
   "mimetype": "text/x-python",
   "name": "python",
   "nbconvert_exporter": "python",
   "pygments_lexer": "ipython3",
   "version": "3.7.4"
  }
 },
 "nbformat": 4,
 "nbformat_minor": 2
}
